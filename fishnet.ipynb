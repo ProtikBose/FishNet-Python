{
 "cells": [
  {
   "cell_type": "markdown",
   "id": "7150692a-416a-484b-bcbc-be86ef1b8c9c",
   "metadata": {},
   "source": [
    "# Libraries"
   ]
  },
  {
   "cell_type": "code",
   "execution_count": 10,
   "id": "b9c2d483-8bc2-4a89-9316-daac9945c182",
   "metadata": {},
   "outputs": [],
   "source": [
    "import os\n",
    "import math\n",
    "import json"
   ]
  },
  {
   "cell_type": "markdown",
   "id": "3310f44c-bab7-4707-a06b-efb24849d020",
   "metadata": {},
   "source": [
    "# Create FishNet tiles"
   ]
  },
  {
   "cell_type": "code",
   "execution_count": 15,
   "id": "3ccf99bf-0194-4710-84eb-7aaaa4c7330b",
   "metadata": {},
   "outputs": [
    {
     "name": "stdout",
     "output_type": "stream",
     "text": [
      "Skipping invalid folder name: JSON\n"
     ]
    }
   ],
   "source": [
    "def tile_to_lon(x, zoom):\n",
    "    n = 2.0 ** zoom\n",
    "    return x / n * 360.0 - 180.0\n",
    "\n",
    "def tile_to_lat(y, zoom):\n",
    "    n = 2.0 ** zoom\n",
    "    lat_rad = math.atan(math.sinh(math.pi * (1 - 2 * y / n)))\n",
    "    return math.degrees(lat_rad)\n",
    "\n",
    "def get_tile_bounding_box_coords(x, y, zoom=17):\n",
    "    nw_lat = tile_to_lat(y, zoom)\n",
    "    nw_lon = tile_to_lon(x, zoom)\n",
    "    se_lat = tile_to_lat(y + 1, zoom)\n",
    "    se_lon = tile_to_lon(x + 1, zoom)\n",
    "\n",
    "    # GeoJSON polygon (counter-clockwise)\n",
    "    return [\n",
    "        [nw_lon, nw_lat],  # NW\n",
    "        [se_lon, nw_lat],  # NE\n",
    "        [se_lon, se_lat],  # SE\n",
    "        [nw_lon, se_lat],  # SW\n",
    "        [nw_lon, nw_lat]   # close loop\n",
    "    ]\n",
    "\n",
    "def create_geojson_from_folders(root_gsv_folder, selected_folder_list, zoom=17):\n",
    "    features = []\n",
    "\n",
    "    for subfolder in os.listdir(root_gsv_folder):\n",
    "        try:\n",
    "            x_str, y_str = subfolder.split(\"_\")\n",
    "            x = int(x_str)\n",
    "            y = int(y_str)\n",
    "        except ValueError:\n",
    "            print(f\"Skipping invalid folder name: {subfolder}\")\n",
    "            continue\n",
    "\n",
    "        polygon = get_tile_bounding_box_coords(x, y, zoom)\n",
    "\n",
    "        feature = {\n",
    "            \"type\": \"Feature\",\n",
    "            \"properties\": {\n",
    "                \"folder\": subfolder\n",
    "            },\n",
    "            \"geometry\": {\n",
    "                \"type\": \"Polygon\",\n",
    "                \"coordinates\": [polygon]\n",
    "            }\n",
    "        }\n",
    "        features.append(feature)\n",
    "\n",
    "    geojson = {\n",
    "        \"type\": \"FeatureCollection\",\n",
    "        \"features\": features\n",
    "    }\n",
    "\n",
    "    return geojson\n",
    "\n",
    "root_gsv_folder = \"D:\\\\Phoenix\\\\gsv\"\n",
    "selected_folder_list = [\"24776_52606\", \"24777_52606\", \"24776_52607\"]  # Example list\n",
    "zoom = 17\n",
    "\n",
    "geojson_data = create_geojson_from_folders(root_gsv_folder, selected_folder_list, zoom)\n",
    "\n",
    "output_path = \"tile_grids.geojson\"\n",
    "with open(output_path, \"w\") as f:\n",
    "    json.dump(geojson_data, f, indent=2)"
   ]
  },
  {
   "cell_type": "code",
   "execution_count": null,
   "id": "d4243a68-51a7-4015-ab86-9e5b5276f6b2",
   "metadata": {},
   "outputs": [],
   "source": []
  }
 ],
 "metadata": {
  "kernelspec": {
   "display_name": "Python 3 (ipykernel)",
   "language": "python",
   "name": "python3"
  },
  "language_info": {
   "codemirror_mode": {
    "name": "ipython",
    "version": 3
   },
   "file_extension": ".py",
   "mimetype": "text/x-python",
   "name": "python",
   "nbconvert_exporter": "python",
   "pygments_lexer": "ipython3",
   "version": "3.12.7"
  }
 },
 "nbformat": 4,
 "nbformat_minor": 5
}
